{
 "cells": [
  {
   "cell_type": "code",
   "execution_count": null,
   "metadata": {},
   "outputs": [],
   "source": [
    "!pip install python-cmr==0.4.1\n",
    "!pip install rioxarray==0.3.1\n",
    ";"
   ]
  },
  {
   "cell_type": "code",
   "execution_count": null,
   "metadata": {},
   "outputs": [],
   "source": [
    "# https://nsidc.org/data/MOD10A1/versions/6\n",
    "# https://github.com/jddeal/python-cmr"
   ]
  },
  {
   "cell_type": "code",
   "execution_count": null,
   "metadata": {},
   "outputs": [],
   "source": [
    "import os\n",
    "import sys\n",
    "import time\n",
    "import math\n",
    "import io\n",
    "import rioxarray\n",
    "import datetime\n",
    "import base64\n",
    "#import requests\n",
    "import yaml\n",
    "from urllib.request import urlopen, Request, build_opener, HTTPCookieProcessor\n",
    "\n",
    "from cmr import GranuleQuery"
   ]
  },
  {
   "cell_type": "code",
   "execution_count": null,
   "metadata": {},
   "outputs": [],
   "source": [
    "#load_dotenv(envpath)\n",
    "envvars = open('template.yml' ,'r')\n",
    "secrets = yaml.load(envvars, Loader=yaml.FullLoader)\n",
    "envvars.close()\n",
    "earthdata_user=secrets['EARTHDATA_USER']\n",
    "earthdata_pass=secrets['EARTHDATA_PASS']"
   ]
  },
  {
   "cell_type": "code",
   "execution_count": null,
   "metadata": {},
   "outputs": [],
   "source": [
    "product = {\n",
    "                'name': 'daily',\n",
    "                'product': 'MOD10A1',\n",
    "                'version': 6,\n",
    "                'date_span': 20\n",
    "            }"
   ]
  },
  {
   "cell_type": "code",
   "execution_count": null,
   "metadata": {},
   "outputs": [],
   "source": [
    "query_handler = GranuleQuery()"
   ]
  },
  {
   "cell_type": "code",
   "execution_count": null,
   "metadata": {},
   "outputs": [],
   "source": [
    "lower_left_lon = -141.899414\n",
    "lower_left_lat = 47.783635\n",
    "upper_right_lon = -112.104492\n",
    "upper_right_lat = 60.866312\n",
    "bbox = [lower_left_lon, lower_left_lat, upper_right_lon, upper_right_lat]"
   ]
  },
  {
   "cell_type": "code",
   "execution_count": null,
   "metadata": {},
   "outputs": [],
   "source": [
    "query_handler.bounding_box(*bbox)\n",
    "query_handler.short_name(product['product'])\n",
    "query_handler.version(product['version'])\n",
    "end_date = datetime.datetime(2021, 2, 25).date()\n",
    "start_date = end_date - datetime.timedelta(product['date_span'])\n",
    "query_handler.temporal(f\"{start_date}T00:00:00Z\", f\"{end_date}T23:59:59Z\")"
   ]
  },
  {
   "cell_type": "code",
   "execution_count": null,
   "metadata": {},
   "outputs": [],
   "source": [
    "results = query_handler.get_all()\n",
    "print(len(results))"
   ]
  },
  {
   "cell_type": "code",
   "execution_count": null,
   "metadata": {},
   "outputs": [],
   "source": [
    "url = results[0]['links'][0]['href']\n",
    "url"
   ]
  },
  {
   "cell_type": "code",
   "execution_count": null,
   "metadata": {},
   "outputs": [],
   "source": [
    "try:\n",
    "    os.makedirs('modis')\n",
    "except:\n",
    "    pass"
   ]
  },
  {
   "cell_type": "code",
   "execution_count": null,
   "metadata": {},
   "outputs": [],
   "source": [
    "def cmr_read_in_chunks(file_object, chunk_size=1024 * 1024):\n",
    "    \"\"\"Read a file in chunks using a generator. Default chunk size: 1Mb.\"\"\"\n",
    "    while True:\n",
    "        data = file_object.read(chunk_size)\n",
    "        if not data:\n",
    "            break\n",
    "        yield data"
   ]
  },
  {
   "cell_type": "code",
   "execution_count": null,
   "metadata": {},
   "outputs": [],
   "source": []
  },
  {
   "cell_type": "code",
   "execution_count": null,
   "metadata": {},
   "outputs": [],
   "source": [
    "\"\"\"stream = session.get(\n",
    "            url,\n",
    "            auth=auth,\n",
    "            allow_redirects=True,\n",
    "            stream=True\n",
    "           )\"\"\";"
   ]
  },
  {
   "cell_type": "code",
   "execution_count": null,
   "metadata": {},
   "outputs": [],
   "source": [
    "def output_progress(count, total, status='', bar_len=60):\n",
    "    if total <= 0:\n",
    "        return\n",
    "    fraction = min(max(count / float(total), 0), 1)\n",
    "    filled_len = int(round(bar_len * fraction))\n",
    "    percents = int(round(100.0 * fraction))\n",
    "    bar = '=' * filled_len + ' ' * (bar_len - filled_len)\n",
    "    fmt = '  [{0}] {1:3d}%  {2}   '.format(bar, percents, status)\n",
    "    print('\\b' * (len(fmt) + 4), end='')  # clears the line\n",
    "    sys.stdout.write(fmt)\n",
    "    sys.stdout.flush()\n",
    "    \n",
    "def get_speed(time_elapsed, chunk_size):\n",
    "    if time_elapsed <= 0:\n",
    "        return ''\n",
    "    speed = chunk_size / time_elapsed\n",
    "    if speed <= 0:\n",
    "        speed = 1\n",
    "    size_name = ('', 'k', 'M', 'G', 'T', 'P', 'E', 'Z', 'Y')\n",
    "    i = int(math.floor(math.log(speed, 1000)))\n",
    "    p = math.pow(1000, i)\n",
    "    return '{0:.1f}{1}B/s'.format(speed / p, size_name[i])"
   ]
  },
  {
   "cell_type": "code",
   "execution_count": null,
   "metadata": {},
   "outputs": [],
   "source": [
    "def download(url):\n",
    "    auth = (earthdata_user, earthdata_pass)\n",
    "    #session = requests.Session()\n",
    "    opener = build_opener(HTTPCookieProcessor())\n",
    "    req = Request(url)\n",
    "    credentials = '{0}:{1}'.format(earthdata_user, earthdata_pass)\n",
    "    credentials = base64.b64encode(credentials.encode('ascii')).decode('ascii')\n",
    "    req.add_header('Authorization', 'Basic {0}'.format(credentials))\n",
    "    response = opener.open(req)\n",
    "    length = int(response.headers['content-length'])\n",
    "    chunk_size = min(max(length, 1), 1024 * 1024)\n",
    "    max_chunks = int(math.ceil(length / chunk_size))\n",
    "    count = 0\n",
    "    time_initial = time.time()\n",
    "    filename = url.split('/')[-1]\n",
    "    date = url.split('/')[-2]\n",
    "    out_pth = os.path.join('modis',date,filename)\n",
    "    try:\n",
    "        os.makedirs(os.path.split(out_pth)[0])\n",
    "    except:\n",
    "        pass\n",
    "    with open(out_pth, 'wb') as f:\n",
    "        for chunk in cmr_read_in_chunks(response, chunk_size=chunk_size):\n",
    "            f.write(chunk)\n",
    "            count = count + 1\n",
    "            time_elapsed = time.time() - time_initial\n",
    "            download_speed = get_speed(time_elapsed, count * chunk_size)\n",
    "            output_progress(count, max_chunks, status=download_speed)\n"
   ]
  },
  {
   "cell_type": "code",
   "execution_count": null,
   "metadata": {},
   "outputs": [],
   "source": [
    "for res in results:\n",
    "    url = res['links'][0]['href']\n",
    "    print(url)\n",
    "    download(url)"
   ]
  },
  {
   "cell_type": "code",
   "execution_count": null,
   "metadata": {},
   "outputs": [],
   "source": []
  },
  {
   "cell_type": "code",
   "execution_count": null,
   "metadata": {},
   "outputs": [],
   "source": []
  },
  {
   "cell_type": "code",
   "execution_count": null,
   "metadata": {},
   "outputs": [],
   "source": []
  }
 ],
 "metadata": {
  "kernelspec": {
   "display_name": "Python 3",
   "language": "python",
   "name": "python3"
  },
  "language_info": {
   "codemirror_mode": {
    "name": "ipython",
    "version": 3
   },
   "file_extension": ".py",
   "mimetype": "text/x-python",
   "name": "python",
   "nbconvert_exporter": "python",
   "pygments_lexer": "ipython3",
   "version": "3.7.6"
  }
 },
 "nbformat": 4,
 "nbformat_minor": 4
}
